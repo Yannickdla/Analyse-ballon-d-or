{
 "cells": [
  {
   "cell_type": "code",
   "execution_count": null,
   "metadata": {},
   "outputs": [
    {
     "name": "stdout",
     "output_type": "stream",
     "text": [
      "ok\n"
     ]
    }
   ],
   "source": [
    "#% pip install matplotib"
   ]
  },
  {
   "cell_type": "code",
   "execution_count": 2,
   "metadata": {},
   "outputs": [],
   "source": [
    "from pandas import read_csv\n",
    "import matplotlib_inline"
   ]
  },
  {
   "cell_type": "markdown",
   "metadata": {},
   "source": [
    "## Notes\n",
    "\n",
    "En ces années les colonnes club et nationnalitées sont inversées\n",
    " - 1971\n",
    " - 1973\n",
    " - 1991\n",
    " - 2002\n",
    " - 2008\n",
    " - 2019\n",
    " - 2021\n",
    " - 2022\n",
    " - 2023\n",
    "\n",
    "Corriger  dans les nationalités : Torino\n",
    "\n",
    "voir comment corriger le cas des yougoslavia, west germania et east germania\n"
   ]
  },
  {
   "cell_type": "code",
   "execution_count": 37,
   "metadata": {},
   "outputs": [],
   "source": [
    "Bdballondor = read_csv(\"nominees.csv\")\n",
    "\n",
    "Bdballondor['Total_Points_Per_Year'] = Bdballondor.groupby('Year')['Points'].transform('sum')\n",
    "# Calculer le pourcentage de points pour chaque joueur par année\n",
    "Bdballondor['Pourcentage'] = (Bdballondor['Points'] / Bdballondor['Total_Points_Per_Year']) * 100\n",
    "\n",
    "\n",
    "badyears = [1971,1973,1991,2002,2008,2019,2021,2022,2023]\n",
    "\n",
    "# Inverser les valeurs entre les colonnes 'Club' et 'Nationality' pour les années spécifiées dans la liste badyears\n",
    "mask = Bdballondor['Year'].isin(badyears)\n",
    "Bdballondor.loc[mask, ['Club', 'Nationality']] = Bdballondor.loc[mask, ['Nationality', 'Club']].values\n",
    "\n",
    "# Nettoyage des irrégularitées dans la nationalité\n",
    "\n",
    "Bdballondor.loc[149, 'Nationality'] = \"Scotland\"\n",
    "Bdballondor.loc[149, 'Club'] = \"Torino\"\n",
    "# nettoyage des traductions\n",
    "traduction_pays = {\n",
    "    \"Côte d'Ivoire\": 'Ivory Coast',\n",
    "    \"Italy+Q1:Q30\":\"Italy\", \"Argentina\\xa0\" : \"Argentina\",\n",
    "    \"Germany\\xa0\" : \"Germany\" , \"Serbia\\xa0\": \"Serbia\" , \"Gabon\\xa0\" : \"Gabon\",\n",
    "    \"Belgium\\xa0\" : \"Belgium\", \"England\\xa0\": \"England\", \"Algeria\\xa0\":\"Algeria\",\n",
    "    \"Poland\\xa0\" : \"Poland\" , \"Brazil\\xa0\" : \"Brazil\", \"France\\xa0\" : \"France\",\n",
    "    \"Egypt\\xa0\": \"Egypt\" , \"Senegal\\xa0\" : \"Senegal\", \"Portugal\\xa0\" : \"Portugal\", \n",
    "    \"Netherlands\\xa0\" : \"Netherlands\"\n",
    "}\n",
    "\n",
    "# Appliquer la traduction en utilisant le dictionnaire\n",
    "Bdballondor['Nationality'] = Bdballondor['Nationality'].replace(traduction_pays)\n"
   ]
  },
  {
   "cell_type": "code",
   "execution_count": 38,
   "metadata": {},
   "outputs": [
    {
     "data": {
      "text/plain": [
       "array(['England', 'Spain', 'France', 'Hungary', 'Soviet Union', 'Austria',\n",
       "       'Bulgaria', 'Italy', 'Czechoslovakia', 'Netherlands', 'Wales',\n",
       "       'Northern Ireland', 'Yugoslavia', 'West Germany', 'Sweden',\n",
       "       'Portugal', 'Scotland', 'Switzerland', 'Romania', 'Belgium',\n",
       "       'Argentina', 'Brazil', 'East Germany', 'Turkey', 'Denmark',\n",
       "       'Ireland', 'Poland', 'Luxembourg', 'Greece', 'Republic of Ireland',\n",
       "       'Germany', 'SFR Yugoslavia', 'Albania', 'Norway', 'Croatia',\n",
       "       'Finland', 'Russia', 'FR Yugoslavia', 'Liberia', 'Nigeria',\n",
       "       'Ghana', 'Chile', 'Czech Republic', 'Ukraine',\n",
       "       'Trinidad and Tobago', 'Slovenia', 'Australia', 'Japan', 'Senegal',\n",
       "       'Cameroon', 'Ivory Coast', 'Mali', 'Iraq', 'Mexico', 'Togo',\n",
       "       'Serbia', 'Bosnia and Herzegovina', 'Uruguay', 'Colombia',\n",
       "       'Algeria', 'Gabon', 'Egypt', 'South Korea', 'Morocco', 'Georgia'],\n",
       "      dtype=object)"
      ]
     },
     "execution_count": 38,
     "metadata": {},
     "output_type": "execute_result"
    }
   ],
   "source": [
    "Bdballondor['Nationality'].unique()"
   ]
  }
 ],
 "metadata": {
  "kernelspec": {
   "display_name": "envThesePro",
   "language": "python",
   "name": "python3"
  },
  "language_info": {
   "codemirror_mode": {
    "name": "ipython",
    "version": 3
   },
   "file_extension": ".py",
   "mimetype": "text/x-python",
   "name": "python",
   "nbconvert_exporter": "python",
   "pygments_lexer": "ipython3",
   "version": "3.12.5"
  }
 },
 "nbformat": 4,
 "nbformat_minor": 2
}
