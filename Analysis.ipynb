{
 "cells": [
  {
   "cell_type": "code",
   "execution_count": 1,
   "metadata": {},
   "outputs": [
    {
     "name": "stdout",
     "output_type": "stream",
     "text": [
      "ok\n"
     ]
    }
   ],
   "source": [
    "#% pip install matplotib\n",
    "print('ok')"
   ]
  },
  {
   "cell_type": "code",
   "execution_count": 2,
   "metadata": {},
   "outputs": [],
   "source": [
    "from pandas import read_csv\n",
    "import matplotlib_inline"
   ]
  },
  {
   "cell_type": "code",
   "execution_count": null,
   "metadata": {},
   "outputs": [],
   "source": [
    "Bdballondor = read_csv(\"nominees.csv\")\n",
    "\n",
    "Bdballondor['Total_Points_Per_Year'] = Bdballondor.groupby('Year')['Points'].transform('sum')\n",
    "# Calculer le pourcentage de points pour chaque joueur par année\n",
    "Bdballondor['Pourcentage'] = (Bdballondor['Points'] / Bdballondor['Total_Points_Per_Year']) * 100\n",
    "\n",
    "\n",
    "badyears = [1971,1973,1991,2002,2008,2019,2021,2022,2023]\n",
    "\n",
    "# Inverser les valeurs entre les colonnes 'Club' et 'Nationality' pour les années spécifiées dans la liste badyears\n",
    "mask = Bdballondor['Year'].isin(badyears)\n",
    "Bdballondor.loc[mask, ['Club', 'Nationality']] = Bdballondor.loc[mask, ['Nationality', 'Club']].values\n",
    "\n",
    "# Nettoyage des irrégularitées dans la nationalité\n",
    "\n",
    "\n"
   ]
  },
  {
   "cell_type": "code",
   "execution_count": 27,
   "metadata": {},
   "outputs": [],
   "source": [
    "count1 = Bdballondor['Nationality'].value_counts()\n"
   ]
  },
  {
   "cell_type": "markdown",
   "metadata": {},
   "source": [
    "## Notes\n",
    "\n",
    "En ces années les colonnes club et nationnalitées sont inversées\n",
    " - 1971\n",
    " - 1973\n",
    " - 1991\n",
    " - 2002\n",
    " - 2008\n",
    " - 2019\n",
    " - 2021\n",
    " - 2022\n",
    " - 2023\n",
    "\n",
    "Corriger  dans les nationalités : Torino\n"
   ]
  },
  {
   "cell_type": "code",
   "execution_count": 20,
   "metadata": {},
   "outputs": [
    {
     "data": {
      "text/html": [
       "<div>\n",
       "<style scoped>\n",
       "    .dataframe tbody tr th:only-of-type {\n",
       "        vertical-align: middle;\n",
       "    }\n",
       "\n",
       "    .dataframe tbody tr th {\n",
       "        vertical-align: top;\n",
       "    }\n",
       "\n",
       "    .dataframe thead th {\n",
       "        text-align: right;\n",
       "    }\n",
       "</style>\n",
       "<table border=\"1\" class=\"dataframe\">\n",
       "  <thead>\n",
       "    <tr style=\"text-align: right;\">\n",
       "      <th></th>\n",
       "      <th>Year</th>\n",
       "      <th>Order</th>\n",
       "      <th>Player</th>\n",
       "      <th>Club</th>\n",
       "      <th>Nationality</th>\n",
       "      <th>Points</th>\n",
       "      <th>Total_Points_Per_Year</th>\n",
       "      <th>Pourcentage</th>\n",
       "    </tr>\n",
       "  </thead>\n",
       "  <tbody>\n",
       "    <tr>\n",
       "      <th>149</th>\n",
       "      <td>1961</td>\n",
       "      <td>23</td>\n",
       "      <td>Denis Law</td>\n",
       "      <td>Scotland</td>\n",
       "      <td>Torino</td>\n",
       "      <td>3.0</td>\n",
       "      <td>289.0</td>\n",
       "      <td>1.038062</td>\n",
       "    </tr>\n",
       "  </tbody>\n",
       "</table>\n",
       "</div>"
      ],
      "text/plain": [
       "     Year  Order     Player      Club Nationality  Points  \\\n",
       "149  1961     23  Denis Law  Scotland      Torino     3.0   \n",
       "\n",
       "     Total_Points_Per_Year  Pourcentage  \n",
       "149                  289.0     1.038062  "
      ]
     },
     "execution_count": 20,
     "metadata": {},
     "output_type": "execute_result"
    }
   ],
   "source": [
    "Bdballondor['Nationality'].unique()\n",
    "bdf = Bdballondor[Bdballondor['Nationality'] == \"Torino\"]\n",
    "bdf.head()"
   ]
  },
  {
   "cell_type": "code",
   "execution_count": 6,
   "metadata": {},
   "outputs": [
    {
     "data": {
      "text/html": [
       "<div>\n",
       "<style scoped>\n",
       "    .dataframe tbody tr th:only-of-type {\n",
       "        vertical-align: middle;\n",
       "    }\n",
       "\n",
       "    .dataframe tbody tr th {\n",
       "        vertical-align: top;\n",
       "    }\n",
       "\n",
       "    .dataframe thead th {\n",
       "        text-align: right;\n",
       "    }\n",
       "</style>\n",
       "<table border=\"1\" class=\"dataframe\">\n",
       "  <thead>\n",
       "    <tr style=\"text-align: right;\">\n",
       "      <th></th>\n",
       "      <th>Year</th>\n",
       "      <th>Order</th>\n",
       "      <th>Player</th>\n",
       "      <th>Club</th>\n",
       "      <th>Nationality</th>\n",
       "      <th>Points</th>\n",
       "    </tr>\n",
       "  </thead>\n",
       "  <tbody>\n",
       "    <tr>\n",
       "      <th>1721</th>\n",
       "      <td>2015</td>\n",
       "      <td>1</td>\n",
       "      <td>Lionel Messi</td>\n",
       "      <td>Barcelona</td>\n",
       "      <td>Argentina</td>\n",
       "      <td>41.33</td>\n",
       "    </tr>\n",
       "    <tr>\n",
       "      <th>1722</th>\n",
       "      <td>2015</td>\n",
       "      <td>2</td>\n",
       "      <td>Cristiano Ronaldo</td>\n",
       "      <td>Real Madrid</td>\n",
       "      <td>Portugal</td>\n",
       "      <td>27.76</td>\n",
       "    </tr>\n",
       "    <tr>\n",
       "      <th>1723</th>\n",
       "      <td>2015</td>\n",
       "      <td>3</td>\n",
       "      <td>Neymar</td>\n",
       "      <td>Barcelona</td>\n",
       "      <td>Brazil</td>\n",
       "      <td>7.86</td>\n",
       "    </tr>\n",
       "    <tr>\n",
       "      <th>1724</th>\n",
       "      <td>2015</td>\n",
       "      <td>4</td>\n",
       "      <td>Robert Lewandowski</td>\n",
       "      <td>Bayern Munich</td>\n",
       "      <td>Poland</td>\n",
       "      <td>4.17</td>\n",
       "    </tr>\n",
       "    <tr>\n",
       "      <th>1725</th>\n",
       "      <td>2015</td>\n",
       "      <td>5</td>\n",
       "      <td>Luis Suárez</td>\n",
       "      <td>Barcelona</td>\n",
       "      <td>Uruguay</td>\n",
       "      <td>3.38</td>\n",
       "    </tr>\n",
       "  </tbody>\n",
       "</table>\n",
       "</div>"
      ],
      "text/plain": [
       "      Year  Order              Player           Club Nationality  Points\n",
       "1721  2015      1        Lionel Messi      Barcelona   Argentina   41.33\n",
       "1722  2015      2   Cristiano Ronaldo    Real Madrid    Portugal   27.76\n",
       "1723  2015      3              Neymar      Barcelona      Brazil    7.86\n",
       "1724  2015      4  Robert Lewandowski  Bayern Munich      Poland    4.17\n",
       "1725  2015      5         Luis Suárez      Barcelona     Uruguay    3.38"
      ]
     },
     "execution_count": 6,
     "metadata": {},
     "output_type": "execute_result"
    }
   ],
   "source": [
    "dataspecYear = Bdballondor[Bdballondor[\"Year\"] == 2015]\n",
    "dataspecYear.head()"
   ]
  },
  {
   "cell_type": "markdown",
   "metadata": {},
   "source": [
    "### création de la colonne de pourcentage"
   ]
  },
  {
   "cell_type": "code",
   "execution_count": null,
   "metadata": {},
   "outputs": [],
   "source": []
  }
 ],
 "metadata": {
  "kernelspec": {
   "display_name": "envThesePro",
   "language": "python",
   "name": "python3"
  },
  "language_info": {
   "codemirror_mode": {
    "name": "ipython",
    "version": 3
   },
   "file_extension": ".py",
   "mimetype": "text/x-python",
   "name": "python",
   "nbconvert_exporter": "python",
   "pygments_lexer": "ipython3",
   "version": "3.12.5"
  }
 },
 "nbformat": 4,
 "nbformat_minor": 2
}
